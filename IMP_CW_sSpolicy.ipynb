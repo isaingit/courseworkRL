{
 "cells": [
  {
   "cell_type": "code",
   "execution_count": 1,
   "id": "cff7a59a",
   "metadata": {},
   "outputs": [],
   "source": [
    "from IMP_CW_env import MESCEnv\n",
    "import numpy as np \n",
    "from scipy.optimize import minimize, basinhopping\n",
    "\n",
    "from HeuristicPolicy_file import HeuristicPolicy, Optimizer\n",
    "from utils import plot_reward_distribution\n",
    "\n",
    "import matplotlib.pyplot as plt\n",
    "%matplotlib inline"
   ]
  },
  {
   "cell_type": "markdown",
   "id": "eeae6816",
   "metadata": {},
   "source": [
    "# **Training environment definition**"
   ]
  },
  {
   "cell_type": "code",
   "execution_count": 2,
   "id": "23494f99",
   "metadata": {},
   "outputs": [],
   "source": [
    "n_retailers = 2\n",
    "n_DCs = 1\n",
    "n_suppliers = 1\n",
    "supply_chain_structure = [[n_retailers] , [n_DCs], n_suppliers]"
   ]
  },
  {
   "cell_type": "markdown",
   "id": "c0b54a55",
   "metadata": {},
   "source": [
    "# **Policy optimization**\n",
    "### Instantiate objects"
   ]
  },
  {
   "cell_type": "code",
   "execution_count": 3,
   "id": "d6ec77cd",
   "metadata": {},
   "outputs": [],
   "source": [
    "env_train = MESCEnv(supply_chain_structure)\n",
    "sSpolicy = HeuristicPolicy()"
   ]
  },
  {
   "cell_type": "markdown",
   "id": "f75e7d35",
   "metadata": {},
   "source": [
    "### **Run optimization**"
   ]
  },
  {
   "cell_type": "markdown",
   "id": "dddc8da9",
   "metadata": {},
   "source": [
    "#### **Option A**: use algorithms implemented in scipy.minimize"
   ]
  },
  {
   "cell_type": "code",
   "execution_count": 5,
   "id": "d4a76522",
   "metadata": {},
   "outputs": [],
   "source": [
    "from scipy.optimize import Bounds\n",
    "bounds = Bounds(np.zeros(6), [env_train.retailers[0].order_quantity_limit, # bounds for s_r1\n",
    "                              env_train.retailers[0].order_quantity_limit, # bounds for S_r1\n",
    "                              env_train.retailers[1].order_quantity_limit, # bounds for s_r2\n",
    "                              env_train.retailers[1].order_quantity_limit, # bounds for S_r2\n",
    "                              env_train.DCs[0].order_quantity_limit, # bounds for s_DC\n",
    "                              env_train.DCs[0].order_quantity_limit]) # bounds for S_DC"
   ]
  },
  {
   "cell_type": "code",
   "execution_count": 9,
   "id": "3a750a35",
   "metadata": {},
   "outputs": [],
   "source": [
    "optimizer = Optimizer(sSpolicy.objective_fcn, env_train)\n",
    "options = None\n",
    "results = sSpolicy.optimize_policy(env_train, optimizer.calculate_reward, method = 'Powell', bounds=bounds, callback = optimizer.callback, options = options)"
   ]
  },
  {
   "cell_type": "code",
   "execution_count": 10,
   "id": "66408326",
   "metadata": {},
   "outputs": [
    {
     "data": {
      "text/plain": [
       " message: Optimization terminated successfully.\n",
       " success: True\n",
       "  status: 0\n",
       "     fun: -169273.0\n",
       "       x: [ 2.562e+01  2.995e+01  1.843e+01  3.671e+01  2.603e+01\n",
       "            1.000e+02]\n",
       "     nit: 3\n",
       "   direc: [[ 0.000e+00  0.000e+00 ...  0.000e+00  1.000e+00]\n",
       "           [ 0.000e+00  1.000e+00 ...  0.000e+00  0.000e+00]\n",
       "           ...\n",
       "           [ 0.000e+00  0.000e+00 ...  1.000e+00  0.000e+00]\n",
       "           [ 9.593e+00  4.551e+00 ...  4.860e+01  1.352e-14]]\n",
       "    nfev: 678"
      ]
     },
     "execution_count": 10,
     "metadata": {},
     "output_type": "execute_result"
    }
   ],
   "source": [
    "results"
   ]
  },
  {
   "cell_type": "markdown",
   "id": "75eb612e",
   "metadata": {},
   "source": [
    "Get solution"
   ]
  },
  {
   "cell_type": "code",
   "execution_count": 11,
   "id": "d06ebc19",
   "metadata": {},
   "outputs": [],
   "source": [
    "optimizer.get_best_solution()\n",
    "optimal_policy_sS = np.clip(np.floor(optimizer.best_x),a_min=0.,a_max=None).astype(int)"
   ]
  },
  {
   "cell_type": "code",
   "execution_count": 12,
   "id": "7acc3946",
   "metadata": {},
   "outputs": [
    {
     "name": "stdout",
     "output_type": "stream",
     "text": [
      "Converged: True\n",
      "Number of iterations: 3 \n",
      "Best objective function value: -214387.50\n",
      "Maximum reward: 214387.50\n",
      "Optimal (s,S) policy: [ 18  30  15  19  21 152]\n"
     ]
    }
   ],
   "source": [
    "print(f'Converged: {results.success}')\n",
    "print(f'Number of iterations: {optimizer.iter} \\nBest objective function value: {optimizer.best_f:.2f}\\nMaximum reward: {-1*optimizer.best_f:.2f}\\nOptimal (s,S) policy: {optimal_policy_sS}')"
   ]
  },
  {
   "cell_type": "markdown",
   "id": "51b34056",
   "metadata": {},
   "source": [
    "Visualize reward evolution"
   ]
  },
  {
   "cell_type": "code",
   "execution_count": 13,
   "id": "7b350400",
   "metadata": {},
   "outputs": [
    {
     "data": {
      "image/png": "[encoded data removed]",
      "text/plain": [
       "<Figure size 700x500 with 1 Axes>"
      ]
     },
     "metadata": {},
     "output_type": "display_data"
    }
   ],
   "source": [
    "optimizer.plot_learning_curve()"
   ]
  },
  {
   "cell_type": "markdown",
   "id": "3dbded86",
   "metadata": {},
   "source": [
    "#### **Option B:** use Bayesian Optimization"
   ]
  },
  {
   "cell_type": "code",
   "execution_count": null,
   "id": "32b1e7fa",
   "metadata": {},
   "outputs": [],
   "source": [
    "from bayes_opt import BayesianOptimization\n",
    "\n",
    "pbounds = {'s_r1': (0, 90), 'S_r1': (0, 90), 's_r2': (0, 90), 'S_r2': (0, 90), 's_DC': (0,210), 'S_DC': (0, 210)}\n",
    "def objective_function_bayes(**kwargs):\n",
    "    policy_param = np.array(list(kwargs.values()))\n",
    "    return -1*sSpolicy.reward_fcn(policy_param, sSpolicy.policy_fcn, env_train)\n",
    "\n",
    "optimizer = BayesianOptimization(f = objective_function_bayes, \n",
    "                                    pbounds = pbounds,\n",
    "                                    random_state = 0,\n",
    "                                    verbose = 0)\n",
    "optimizer.maximize(init_points = 10, n_iter = 50)\n",
    "optimal_policy_sS = np.array(list(optimizer.max['params'].values()))"
   ]
  },
  {
   "cell_type": "code",
   "execution_count": null,
   "id": "405586e4",
   "metadata": {},
   "outputs": [],
   "source": [
    "optimal_policy_sS"
   ]
  },
  {
   "cell_type": "markdown",
   "id": "f4c9806a",
   "metadata": {},
   "source": [
    "# **(s,S) Policy evaluation**\n",
    "\n",
    "Note that here the policy is tested in the same environment where it was trained."
   ]
  },
  {
   "cell_type": "markdown",
   "id": "efc4bf83",
   "metadata": {},
   "source": [
    "### Test dataset of demands\n",
    "It will contain 100 samples for testing, each with 52 weeks."
   ]
  },
  {
   "cell_type": "code",
   "execution_count": 14,
   "id": "5aea95ca",
   "metadata": {},
   "outputs": [],
   "source": [
    "test_demand_dataset = []\n",
    "env_train.seed = 42\n",
    "for _ in range(0,100):\n",
    "    demands_episode, _ = env_train.sample_demands_episode()\n",
    "    test_demand_dataset.append(demands_episode)"
   ]
  },
  {
   "cell_type": "markdown",
   "id": "a7f14b92",
   "metadata": {},
   "source": [
    "### Policy evaluation\n",
    "Set the optimal policy parameters before running the evaluation."
   ]
  },
  {
   "cell_type": "code",
   "execution_count": 15,
   "id": "ce023f2d",
   "metadata": {},
   "outputs": [],
   "source": [
    "sSpolicy.policy_param = optimal_policy_sS"
   ]
  },
  {
   "cell_type": "code",
   "execution_count": 16,
   "id": "6486a85b",
   "metadata": {},
   "outputs": [
    {
     "data": {
      "image/png": "[encoded data removed]",
      "text/plain": [
       "<Figure size 1000x500 with 2 Axes>"
      ]
     },
     "metadata": {},
     "output_type": "display_data"
    }
   ],
   "source": [
    "reward_list = sSpolicy.evaluate_policy(env_train, test_demand_dataset)\n",
    "plot_reward_distribution(np.vstack([reward_list,reward_list]).T)"
   ]
  }
 ],
 "metadata": {
  "kernelspec": {
   "display_name": "ml4ce_rl",
   "language": "python",
   "name": "python3"
  },
  "language_info": {
   "codemirror_mode": {
    "name": "ipython",
    "version": 3
   },
   "file_extension": ".py",
   "mimetype": "text/x-python",
   "name": "python",
   "nbconvert_exporter": "python",
   "pygments_lexer": "ipython3",
   "version": "3.12.0"
  }
 },
 "nbformat": 4,
 "nbformat_minor": 5
}
