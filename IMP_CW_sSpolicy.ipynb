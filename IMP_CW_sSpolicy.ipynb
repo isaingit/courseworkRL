{
 "cells": [
  {
   "cell_type": "code",
   "execution_count": null,
   "id": "cff7a59a",
   "metadata": {},
   "outputs": [],
   "source": [
    "from IMP_CW_env import MESCEnv\n",
    "import numpy as np \n",
    "from scipy.optimize import minimize, basinhopping\n",
    "\n",
    "from heuristic_policy import HeuristicPolicy, Optimizer\n",
    "from utils import plot_reward_distribution\n",
    "\n",
    "import matplotlib.pyplot as plt\n",
    "%matplotlib inline"
   ]
  },
  {
   "cell_type": "markdown",
   "id": "eeae6816",
   "metadata": {},
   "source": [
    "# **Training environment definition**"
   ]
  },
  {
   "cell_type": "code",
   "execution_count": 2,
   "id": "23494f99",
   "metadata": {},
   "outputs": [],
   "source": [
    "n_retailers = 2\n",
    "n_DCs = 1\n",
    "n_suppliers = 1\n",
    "supply_chain_structure = [[n_retailers] , [n_DCs], n_suppliers]"
   ]
  },
  {
   "cell_type": "markdown",
   "id": "c0b54a55",
   "metadata": {},
   "source": [
    "# **Policy optimization**\n",
    "### Instantiate objects"
   ]
  },
  {
   "cell_type": "code",
   "execution_count": 3,
   "id": "d6ec77cd",
   "metadata": {},
   "outputs": [],
   "source": [
    "env_train = MESCEnv(supply_chain_structure, num_periods = 4*7)\n",
    "sSpolicy = HeuristicPolicy()"
   ]
  },
  {
   "cell_type": "markdown",
   "id": "f75e7d35",
   "metadata": {},
   "source": [
    "### **Run optimization**"
   ]
  },
  {
   "cell_type": "code",
   "execution_count": 4,
   "id": "d4a76522",
   "metadata": {},
   "outputs": [],
   "source": [
    "from scipy.optimize import Bounds\n",
    "bounds = Bounds(np.zeros(6), [env_train.retailers[0].order_quantity_limit, # bounds for s_r1\n",
    "                              env_train.retailers[0].order_quantity_limit, # bounds for S_r1\n",
    "                              env_train.retailers[1].order_quantity_limit, # bounds for s_r2\n",
    "                              env_train.retailers[1].order_quantity_limit, # bounds for S_r2\n",
    "                              env_train.DCs[0].order_quantity_limit, # bounds for s_DC\n",
    "                              env_train.DCs[0].order_quantity_limit]) # bounds for S_DC"
   ]
  },
  {
   "cell_type": "code",
   "execution_count": 5,
   "id": "3a750a35",
   "metadata": {},
   "outputs": [],
   "source": [
    "optimizer = Optimizer(sSpolicy.objective_fcn, env_train)\n",
    "options = None\n",
    "results = sSpolicy.optimize_policy(env_train, optimizer.calculate_reward, method = 'Powell', bounds=bounds, callback = optimizer.callback, options = options)"
   ]
  },
  {
   "cell_type": "markdown",
   "id": "75eb612e",
   "metadata": {},
   "source": [
    "Get solution"
   ]
  },
  {
   "cell_type": "code",
   "execution_count": 6,
   "id": "d06ebc19",
   "metadata": {},
   "outputs": [],
   "source": [
    "optimizer.get_best_solution()\n",
    "optimal_policy_sS = np.clip(np.floor(optimizer.best_x),a_min=0.,a_max=None).astype(int)"
   ]
  },
  {
   "cell_type": "code",
   "execution_count": 7,
   "id": "7acc3946",
   "metadata": {},
   "outputs": [
    {
     "name": "stdout",
     "output_type": "stream",
     "text": [
      "Converged: True\n",
      "Number of iterations: 2 \n",
      "Best objective function value: -15708.40\n",
      "Maximum reward: 15708.40\n",
      "Optimal (s,S) policy: [11 30 20 34 61 76]\n"
     ]
    }
   ],
   "source": [
    "print(f'Converged: {results.success}')\n",
    "print(f'Number of iterations: {optimizer.iter} \\nBest objective function value: {optimizer.best_f:.2f}\\nMaximum reward: {-1*optimizer.best_f:.2f}\\nOptimal (s,S) policy: {optimal_policy_sS}')"
   ]
  },
  {
   "cell_type": "markdown",
   "id": "51b34056",
   "metadata": {},
   "source": [
    "Visualize reward evolution"
   ]
  },
  {
   "cell_type": "code",
   "execution_count": 8,
   "id": "7b350400",
   "metadata": {},
   "outputs": [
    {
     "data": {
      "image/png": "[encoded data removed]",
      "text/plain": [
       "<Figure size 700x500 with 1 Axes>"
      ]
     },
     "metadata": {},
     "output_type": "display_data"
    }
   ],
   "source": [
    "optimizer.plot_learning_curve()"
   ]
  },
  {
   "cell_type": "markdown",
   "id": "8197b09c",
   "metadata": {},
   "source": [
    "### Compare solution to Bayesian Optimization"
   ]
  },
  {
   "cell_type": "code",
   "execution_count": 9,
   "id": "fd914be7",
   "metadata": {},
   "outputs": [
    {
     "name": "stderr",
     "output_type": "stream",
     "text": [
      "C:\\Users\\Isabela\\AppData\\Local\\Temp\\ipykernel_1040\\970729144.py:32: UserWarning: Non-float parameters are experimental and may not work as expected. Exercise caution when using them and please report any issues you encounter.\n",
      "  optimizer = BayesianOptimization(\n"
     ]
    },
    {
     "name": "stdout",
     "output_type": "stream",
     "text": [
      "|   iter    |  target   |   s_r1    |   S_r1    |   s_r2    |   S_r2    |   s_DC    |   S_DC    |\n",
      "-------------------------------------------------------------------------------------------------\n",
      "| \u001b[35m2        \u001b[39m | \u001b[35m13941.415\u001b[39m | \u001b[35m9        \u001b[39m | \u001b[35m19       \u001b[39m | \u001b[35m21       \u001b[39m | \u001b[35m50       \u001b[39m | \u001b[35m36       \u001b[39m | \u001b[35m87       \u001b[39m |\n",
      "| \u001b[35m50       \u001b[39m | \u001b[35m14636.5  \u001b[39m | \u001b[35m0        \u001b[39m | \u001b[35m20       \u001b[39m | \u001b[35m1        \u001b[39m | \u001b[35m31       \u001b[39m | \u001b[35m24       \u001b[39m | \u001b[35m64       \u001b[39m |\n",
      "=================================================================================================\n",
      "BO optimization results\n",
      "- Best return: 14636.5\n",
      "- Best param: [ 0 20  1 31 24 64]\n"
     ]
    }
   ],
   "source": [
    "from bayes_opt import BayesianOptimization\n",
    "pbounds = {'s_r1': (0, int(env_train.retailers[0].order_quantity_limit), int), \n",
    "           'S_r1': (0, int(env_train.retailers[0].order_quantity_limit), int), \n",
    "           's_r2': (0, int(env_train.retailers[1].order_quantity_limit), int), \n",
    "           'S_r2': (0, int(env_train.retailers[1].order_quantity_limit), int), \n",
    "           's_DC': (0, int(env_train.DCs[0].order_quantity_limit), int), \n",
    "           'S_DC': (0, int(env_train.DCs[0].order_quantity_limit), int)}\n",
    "\n",
    "def objectiveBO(s_r1,S_r1,s_r2,S_r2,s_DC,S_DC):\n",
    "    \n",
    "    policy_param = np.array([s_r1,S_r1,s_r2,S_r2,s_DC,S_DC])\n",
    "    \n",
    "    num_runs = 3\n",
    "    total_reward_list = []\n",
    "    for _ in range(num_runs):\n",
    "        total_reward = 0\n",
    "        episode_terminated = False\n",
    "\n",
    "        env_train.reset()\n",
    "\n",
    "        if any(policy_param[0::2] >= policy_param[1::2]):\n",
    "            return -1e8\n",
    "        else:\n",
    "            while episode_terminated == False:\n",
    "                action = sSpolicy.policy_fcn(policy_param, env_train)\n",
    "                state , reward, episode_terminated, _ = env_train.step(action)\n",
    "                total_reward += reward\n",
    "                \n",
    "        total_reward_list.append(total_reward)\n",
    "    return np.mean(total_reward_list)\n",
    "\n",
    "optimizer = BayesianOptimization(\n",
    "    f= objectiveBO,\n",
    "    pbounds=pbounds,\n",
    "    random_state=0,\n",
    "    verbose = 1,\n",
    ")\n",
    "optimizer.maximize(\n",
    "    init_points = 25,\n",
    "    n_iter=25\n",
    ")\n",
    "\n",
    "best_param_BO = np.clip(np.floor(list(optimizer.max['params'].values())),a_min=0.,a_max=None).astype(int)\n",
    "print(f\"BO optimization results\\n- Best return: {optimizer.max['target']}\\n- Best param: {best_param_BO}\")"
   ]
  },
  {
   "cell_type": "markdown",
   "id": "f4c9806a",
   "metadata": {},
   "source": [
    "# **(s,S) Policy evaluation**\n",
    "\n",
    "Note that here the policy is tested in the same environment where it was trained."
   ]
  },
  {
   "cell_type": "markdown",
   "id": "efc4bf83",
   "metadata": {},
   "source": [
    "### Test dataset of demands\n",
    "It will contain 100 samples for testing, each with `env_train.n_periods` days."
   ]
  },
  {
   "cell_type": "code",
   "execution_count": 10,
   "id": "5aea95ca",
   "metadata": {},
   "outputs": [],
   "source": [
    "import pickle\n",
    "# Open the file in binary mode\n",
    "with open(\"test_demand_dataset.pickle\", 'rb') as file:\n",
    "    # Deserialize and retrieve the variable from the file\n",
    "    test_demand_dataset = pickle.load(file)"
   ]
  },
  {
   "cell_type": "markdown",
   "id": "a7f14b92",
   "metadata": {},
   "source": [
    "### Policy evaluation\n",
    "Set the optimal policy parameters before running the evaluation."
   ]
  },
  {
   "cell_type": "code",
   "execution_count": 11,
   "id": "ce023f2d",
   "metadata": {},
   "outputs": [],
   "source": [
    "sSpolicy.policy_param = optimal_policy_sS"
   ]
  },
  {
   "cell_type": "code",
   "execution_count": 12,
   "id": "6486a85b",
   "metadata": {},
   "outputs": [
    {
     "data": {
      "image/png": "[encoded data removed]",
      "text/plain": [
       "<Figure size 500x500 with 1 Axes>"
      ]
     },
     "metadata": {},
     "output_type": "display_data"
    }
   ],
   "source": [
    "reward_list = sSpolicy.evaluate_policy(env_train, test_demand_dataset)\n",
    "plot_reward_distribution(reward_list)"
   ]
  }
 ],
 "metadata": {
  "kernelspec": {
   "display_name": "ml4ce_rl",
   "language": "python",
   "name": "python3"
  },
  "language_info": {
   "codemirror_mode": {
    "name": "ipython",
    "version": 3
   },
   "file_extension": ".py",
   "mimetype": "text/x-python",
   "name": "python",
   "nbconvert_exporter": "python",
   "pygments_lexer": "ipython3",
   "version": "3.12.0"
  }
 },
 "nbformat": 4,
 "nbformat_minor": 5
}
