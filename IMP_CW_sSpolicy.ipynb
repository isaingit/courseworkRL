{
 "cells": [
  {
   "cell_type": "code",
   "execution_count": 1,
   "id": "cff7a59a",
   "metadata": {},
   "outputs": [],
   "source": [
    "from IMP_CW_env import MESCEnv\n",
    "import numpy as np \n",
    "from scipy.optimize import minimize"
   ]
  },
  {
   "cell_type": "code",
   "execution_count": 7,
   "id": "ca1b96d1",
   "metadata": {},
   "outputs": [],
   "source": [
    "def optimize_inventory_policy(env, reward_fcn, policy_fcn, initial_policy=None, method='Powell'):\n",
    "\n",
    "    if initial_policy is None:\n",
    "        initial_policy = np.ones(env.n_actions*2,dtype=env.retailers[-1].I.dtype)\n",
    "        initial_policy[1::2] = [retailer.order_quantity_limit for retailer in env.retailers] + [dc.order_quantity_limit for dc in env.DCs]\n",
    "        initial_policy[0::2] = (1/3) * initial_policy[1::2] \n",
    "\n",
    "    results = minimize(fun = reward_fcn,\n",
    "                       x0 = initial_policy,\n",
    "                       args = (policy_fcn, env),\n",
    "                       method = method,\n",
    "                       )\n",
    "    \n",
    "    policy = results.x.copy()\n",
    "    # Enforce policy is composed of non-integer positive numbers\n",
    "    policy = np.clip(np.round(policy), a_min = 0, a_max = None)\n",
    "\n",
    "    return policy, results\n",
    "\n",
    "def reward_fcn(policy_param, policy_function, env):\n",
    "    '''\n",
    "    Runs an episode and computes the negative of the reward function.\n",
    "    Reward function = expected profit\n",
    "    '''\n",
    "    rewards = []\n",
    "    episode_terminated = False\n",
    "    env.reset()\n",
    "    if any(policy_param[0::2] >= policy_param[1::2]):\n",
    "        return 1e8\n",
    "    else: \n",
    "        while episode_terminated == False:\n",
    "            action = policy_function(policy_param, env)\n",
    "            state , reward, episode_terminated, _ = env.step(action)\n",
    "            rewards.append(reward)\n",
    "\n",
    "            return -1/env.n_periods * np.sum(env.prob_per_scenario*rewards)\n",
    "\n",
    "def policy_function_sS(policy_param, env):\n",
    "    # Check that given x0 is a valid policy\n",
    "    assert len(policy_param) == (len(env.retailers)+len(env.DCs))*2, \"(s,S) policy should match the number of entities*2. \\nMismatch {} vs {}\".format(len(policy_param), (len(env.retailers)+len(env.DCs))*2)\n",
    "    \n",
    "    # Compute the action (order quantity)\n",
    "    action = np.zeros(env.n_actions, dtype=env.retailers[-1].I.dtype)\n",
    "    order_quantity_limit = np.array([retailer.order_quantity_limit for retailer in env.retailers] + [dc.order_quantity_limit for dc in env.DCs])\n",
    "    for i, state in enumerate(env.state[:-1]):\n",
    "        if state <= policy_param[i*2]:\n",
    "            action[i] = np.minimum(policy_param[i*2+1] - state , order_quantity_limit[i])\n",
    "        else:\n",
    "            action[i] = 0\n",
    "\n",
    "    return action.astype(env.retailers[-1].I.dtype) "
   ]
  },
  {
   "cell_type": "code",
   "execution_count": 8,
   "id": "23494f99",
   "metadata": {},
   "outputs": [],
   "source": [
    "n_retailers = 2\n",
    "n_DCs = 1\n",
    "n_suppliers = 1\n",
    "supply_chain_structure = [n_retailers , n_DCs, n_suppliers]"
   ]
  },
  {
   "cell_type": "code",
   "execution_count": 9,
   "id": "f3178be2",
   "metadata": {},
   "outputs": [
    {
     "name": "stdout",
     "output_type": "stream",
     "text": [
      "Re-order levels:  [  7.  26.  10.  11.  38. 104.]\n"
     ]
    }
   ],
   "source": [
    "inv_env = MESCEnv(supply_chain_structure)\n",
    "optimal_policy, results = optimize_inventory_policy(inv_env, reward_fcn, policy_function_sS)\n",
    "print(\"Re-order levels: \", optimal_policy)"
   ]
  }
 ],
 "metadata": {
  "kernelspec": {
   "display_name": "ml4ce_rl",
   "language": "python",
   "name": "python3"
  },
  "language_info": {
   "codemirror_mode": {
    "name": "ipython",
    "version": 3
   },
   "file_extension": ".py",
   "mimetype": "text/x-python",
   "name": "python",
   "nbconvert_exporter": "python",
   "pygments_lexer": "ipython3",
   "version": "3.12.0"
  }
 },
 "nbformat": 4,
 "nbformat_minor": 5
}
