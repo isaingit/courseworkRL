{
 "cells": [
  {
   "cell_type": "code",
   "execution_count": null,
   "id": "adea7dc1",
   "metadata": {},
   "outputs": [],
   "source": [
    "from IMP_CW_env import MESCEnv\n",
    "import numpy as np \n",
    "from scipy.optimize import minimize, basinhopping\n",
    "import torch\n",
    "import timer\n",
    "\n",
    "from HeuristicPolicy_file import HeuristicPolicy, Optimizer\n",
    "from PPO_file import PPO\n",
    "from utils import plot_reward_evolution, read_log_file, plot_reward_distribution\n",
    "\n",
    "%matplotlib inline\n",
    "# %matplotlib ipympl\n",
    "import matplotlib.pyplot as plt"
   ]
  },
  {
   "cell_type": "markdown",
   "id": "b249c2cf",
   "metadata": {},
   "source": [
    "# **Alternative environment**\n",
    "### **Definition**\n",
    "Instantiate environment used for testing purposes."
   ]
  },
  {
   "cell_type": "code",
   "execution_count": null,
   "id": "b2b1661e",
   "metadata": {},
   "outputs": [],
   "source": [
    "n_retailers = [2]\n",
    "n_DCs = [1]\n",
    "n_suppliers = 1\n",
    "supply_chain_structure = [n_retailers , n_DCs, n_suppliers]\n",
    "\n",
    "demand_dist_param = [{'mu': 5}, # Mo-Thu\n",
    "                     {'mu': 7}, # Fri\n",
    "                     {'mu': 20}] # Sat-Sun\n",
    "\n",
    "env_test = MESCEnv(supply_chain_structure, demand_dist_param=demand_dist_param)"
   ]
  },
  {
   "cell_type": "markdown",
   "id": "638cae45",
   "metadata": {},
   "source": [
    "Customize features of DCs and retailers."
   ]
  },
  {
   "cell_type": "code",
   "execution_count": null,
   "id": "6b5881dd",
   "metadata": {},
   "outputs": [],
   "source": [
    "# Stress test capacity and lead times at distribution center\n",
    "env_test.DCs[0].capacity = env_test.DCs[0].capacity/2\n",
    "env_test.DCs[0].capacity_violation_cost += 20\n",
    "env_test.DCs[0].lead_time += 1 \n",
    "env_test.DCs[0].holding_cost = env_test.DCs[0].holding_cost * 2\n",
    "\n",
    "# Retailer 0: premium customer \n",
    "env_test.retailers[0].lead_time = 1\n",
    "env_test.retailers[0].lost_sales_cost = env_test.retailers[0].lost_sales_cost * 2 \n",
    "env_test.retailers[0].capacity_violation_cost = env_test.retailers[0].capacity_violation_cost * 2\n",
    "\n",
    "# Retailer 2: higher rotating inventory\n",
    "env_test.retailers[0].capacity -= 25\n",
    "env_test.retailers[1].fixed_order_cost = env_test.retailers[1].fixed_order_cost / 2\n",
    "\n",
    "# Sold product is more expensive\n",
    "env_test.retailers[0].unit_price += 10\n",
    "env_test.retailers[1].unit_price += 10"
   ]
  },
  {
   "cell_type": "markdown",
   "id": "c810d541",
   "metadata": {},
   "source": [
    "# **Training phase** \n",
    "Find optimal policy using students' PPO implementation.\n",
    "<!-- <span style=\"color:red\">**TO DO**</span> -->"
   ]
  },
  {
   "cell_type": "code",
   "execution_count": null,
   "id": "b22a4ad1",
   "metadata": {},
   "outputs": [],
   "source": [
    "# https://medium.com/data-science/limiting-a-python-functions-execution-time-using-a-decorator-and-multiprocessing-6fcfe01da6f8"
   ]
  }
 ],
 "metadata": {
  "kernelspec": {
   "display_name": "ml4ce_rl",
   "language": "python",
   "name": "python3"
  },
  "language_info": {
   "codemirror_mode": {
    "name": "ipython",
    "version": 3
   },
   "file_extension": ".py",
   "mimetype": "text/x-python",
   "name": "python",
   "nbconvert_exporter": "python",
   "pygments_lexer": "ipython3",
   "version": "3.12.0"
  }
 },
 "nbformat": 4,
 "nbformat_minor": 5
}
