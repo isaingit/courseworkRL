{
 "cells": [
  {
   "cell_type": "code",
   "execution_count": 1,
   "id": "adea7dc1",
   "metadata": {},
   "outputs": [],
   "source": [
    "from IMP_CW_env_v2 import MESCEnv\n",
    "import numpy as np \n",
    "from scipy.optimize import minimize, basinhopping\n",
    "import torch\n",
    "\n",
    "from HeuristicPolicy_file import HeuristicPolicy, Optimizer\n",
    "from PPO_file import PPO\n",
    "from utils import plot_reward_evolution, read_log_file, plot_reward_distribution\n",
    "\n",
    "import matplotlib.pyplot as plt\n",
    "%matplotlib inline"
   ]
  },
  {
   "cell_type": "markdown",
   "id": "b249c2cf",
   "metadata": {},
   "source": [
    "# **Alternative environment**\n",
    "### **Definition**\n",
    "Instantiate environment with different structure."
   ]
  },
  {
   "cell_type": "code",
   "execution_count": null,
   "id": "b2b1661e",
   "metadata": {},
   "outputs": [],
   "source": [
    "n_retailers = [2,2]\n",
    "n_DCs = [1,1]\n",
    "n_suppliers = 1\n",
    "supply_chain_structure = [n_retailers , n_DCs, n_suppliers]\n",
    "\n",
    "demand_dist_param = [{'mu': 5}, # Mo-Thu\n",
    "                     {'mu': 7}, # Fri\n",
    "                     {'mu': 20}] # Sat-Sun\n",
    "\n",
    "env_test = MESCEnv(supply_chain_structure, demand_dist_param=demand_dist_param)"
   ]
  },
  {
   "cell_type": "markdown",
   "id": "638cae45",
   "metadata": {},
   "source": [
    "Customize features of DCs and retailers."
   ]
  },
  {
   "cell_type": "code",
   "execution_count": null,
   "id": "6b5881dd",
   "metadata": {},
   "outputs": [],
   "source": [
    "# First DC: larger capacity (less likely to violate capacity constraints) but more expensive to hold inventory \n",
    "env_test.DCs[0].capacity += 50\n",
    "env_test.DCs[0].holding_cost += 1\n",
    "\n",
    "# Second DC: smaller capacity but lower lead time\n",
    "env_test.DCs[1].capacity -= 30\n",
    "env_test.DCs[1].lead_time -= 1\n",
    "\n",
    "# First retailer: higher fix order cost \n",
    "env_test.retailers[0].fix_order_cost += 25\n",
    "\n",
    "# Second retailer: lower holding cost and lost sales cost\n",
    "env_test.retailers[1].holding_cost -= 0.5\n",
    "env_test.retailers[1].capacity_violation_cost = env_test.retailers[1].unit_price/3\n",
    "\n",
    "# Third retailer: higher demand\n",
    "env_test.retailers[2].capacity += 20\n",
    "env_test.retailers[2].lead_time += 3\n",
    "\n",
    "# Fourth retailer: same as base case"
   ]
  },
  {
   "cell_type": "markdown",
   "id": "c810d541",
   "metadata": {},
   "source": [
    "# **Testing pipeline**\n",
    "<span style=\"color:red\">**TO DO**</span>"
   ]
  }
 ],
 "metadata": {
  "kernelspec": {
   "display_name": "ml4ce_rl",
   "language": "python",
   "name": "python3"
  },
  "language_info": {
   "codemirror_mode": {
    "name": "ipython",
    "version": 3
   },
   "file_extension": ".py",
   "mimetype": "text/x-python",
   "name": "python",
   "nbconvert_exporter": "python",
   "pygments_lexer": "ipython3",
   "version": "3.12.0"
  }
 },
 "nbformat": 4,
 "nbformat_minor": 5
}
